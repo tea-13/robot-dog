{
 "cells": [
  {
   "cell_type": "code",
   "execution_count": 26,
   "id": "200c139e",
   "metadata": {},
   "outputs": [],
   "source": [
    "def solution(a, b, la, lb, lc):\n",
    "    plt.figure(figsize=(6, 6))\n",
    "\n",
    "    # x-lim and y-lim\n",
    "    lim = [-7, 7]\n",
    "    plt.xlim(*lim) \n",
    "    plt.ylim(*lim)\n",
    "    plt.grid() # grid on the plot\n",
    "\n",
    "    L = np.array([-2, -1]) # distance between servo\n",
    "    O = np.array([0, 0]) # start point\n",
    "\n",
    "    H1 = H(5*np.pi/4 + b, *L)\n",
    "    H2 = H(3*np.pi/4 - a - b, lb, 0)\n",
    "    H3 = H(0, lc, 0)\n",
    "\n",
    "    H12 = np.matmul(H1, H2)\n",
    "    H123 = np.matmul(H12, H3)\n",
    "\n",
    "\n",
    "    # Draw solution\n",
    "    plt.quiver(*O, *H123[:2, 2], color='c', scale_units='xy', angles='xy', scale=1) # FK solution\n",
    "    \n",
    "    \n",
    "    plt.quiver(*O, *L, color='y', hatch='|', scale_units='xy', angles='xy', scale=1) # servo vector\n",
    "\n",
    "\n",
    "    plt.quiver(*O, *(-la * H12[:2,0]), color='y', hatch='*', scale_units='xy', angles='xy', scale=1) # 1 link\n",
    "    plt.quiver(*H12[:2, 2], *(-la * H12[:2,0]), color='y', hatch='*', scale_units='xy', angles='xy', scale=1) # 1' link\n",
    "    plt.quiver(*(-la * H12[:2,0]), *H12[:2, 2], color='m', hatch='*', scale_units='xy', angles='xy', scale=1) # link between 1 and 1'\n",
    "    plt.quiver(*L, *(lb * H1[:2,0]), color='r', scale_units='xy', angles='xy', scale=1) # 2 link\n",
    "    plt.quiver(*H12[:2, 2], *(lc * H12[:2,0]), color='g', scale_units='xy', angles='xy', scale=1) # 3 link\n",
    "\n",
    "\n",
    "    plt.quiver(*np.array([L, L]).T, *H1[:2, :2], color='k', scale_units='xy', angles='xy', scale=1) # base frame\n",
    "    plt.quiver(*np.array([H12[:2, 2], H12[:2, 2]]).T, *H12[:2, :2], color='k', scale_units='xy', angles='xy', scale=1) # second frame\n",
    "    plt.quiver(*np.array([H123[:2, 2], H123[:2, 2]]).T, *H123[:2, :2], color='k', scale_units='xy', scale=1) # third frame\n",
    "\n",
    "    plt.scatter(*np.array([O, L, H12[:2, 2], H123[:2, 2]]).T, c=['y', 'r', 'g', 'b'])\n",
    "    \n",
    "    print(H123[:2, 2])\n",
    "\n"
   ]
  },
  {
   "cell_type": "code",
   "execution_count": 1,
   "id": "2f61921f",
   "metadata": {},
   "outputs": [],
   "source": [
    "import numpy as np\n",
    "from matplotlib import pyplot as plt"
   ]
  },
  {
   "cell_type": "code",
   "execution_count": 28,
   "id": "5e7925fb",
   "metadata": {},
   "outputs": [],
   "source": [
    "def H(ang: float, dx: int, dy: int) -> np.array:\n",
    "    return np.array([\n",
    "        [np.cos(ang), -np.sin(ang), dx],\n",
    "        [np.sin(ang), np.cos(ang), dy],\n",
    "        [0, 0, 1],\n",
    "    ])"
   ]
  },
  {
   "cell_type": "code",
   "execution_count": 29,
   "id": "6c45cee3",
   "metadata": {},
   "outputs": [],
   "source": [
    "a = 0 # servo one rotation\n",
    "b = 0 # servo two rotation\n",
    "L = np.array([-2, -1]) # distance between servo\n",
    "la =  2 # 1 link\n",
    "lb =  3 # 2 link\n",
    "lc =  5 # 3 link\n",
    "O = np.array([0, 0]) # start point"
   ]
  },
  {
   "cell_type": "markdown",
   "id": "140aa322",
   "metadata": {},
   "source": [
    "# FK"
   ]
  },
  {
   "cell_type": "markdown",
   "id": "9cdc9648",
   "metadata": {},
   "source": [
    "# 1"
   ]
  },
  {
   "cell_type": "code",
   "execution_count": 88,
   "id": "e1fc77bb",
   "metadata": {},
   "outputs": [],
   "source": [
    "H1 = H(5*np.pi/4solution(a, b, la, lb, lc) + b, *L)\n",
    "H2 = H(3*np.pi/4 - a - b, lb, 0)\n",
    "H3 = H(0, lc, 0)\n",
    "\n",
    "H12 = np.matmul(H1, H2)\n",
    "H123 = np.matmul(H12, H3)"
   ]
  },
  {
   "cell_type": "code",
   "execution_count": 107,
   "id": "560d4336",
   "metadata": {
    "scrolled": false
   },
   "outputs": [
    {
     "name": "stdout",
     "output_type": "stream",
     "text": [
      "[ 0.87867966 -3.12132034]\n"
     ]
    },
    {
     "data": {
      "image/png": "[encoded data removed]",
      "text/plain": [
       "<Figure size 432x432 with 1 Axes>"
      ]
     },
     "metadata": {
      "needs_background": "light"
     },
     "output_type": "display_data"
    }
   ],
   "source": [
    "solution(a, b, la, lb, lc)"
   ]
  },
  {
   "cell_type": "code",
   "execution_count": 32,
   "id": "30ec136c",
   "metadata": {},
   "outputs": [],
   "source": [
    "k = 10\n",
    "la =  24/k # 1 link\n",
    "lb =  100/k # 2 link\n",
    "lc =  120/k # 3 link\n",
    "L = np.array([-20, -22])/k # distance between servo"
   ]
  },
  {
   "cell_type": "markdown",
   "id": "71ed6ac4",
   "metadata": {},
   "source": [
    "# 2"
   ]
  },
  {
   "cell_type": "code",
   "execution_count": 19,
   "id": "0fd02ea4",
   "metadata": {},
   "outputs": [],
   "source": [
    "def A(ang: float) -> np.array:\n",
    "    return np.array([\n",
    "        [np.cos(ang), -np.sin(ang)],\n",
    "        [np.sin(ang), np.cos(ang)]\n",
    "    ])\n",
    "\n",
    "\n",
    "def FK(a: float, b:float) -> np.array:\n",
    "    I = np.array([1, 0])\n",
    "    Lc = np.matmul(A(-a), lc * I)\n",
    "    Lb = np.matmul(A(5*np.pi/4+b), lb * I)\n",
    "    \n",
    "    L = np.array([-20, -22]) # distance between servo\n",
    "    \n",
    "    solution = L + Lc + Lb\n",
    "    \n",
    "    return  solution\n"
   ]
  },
  {
   "cell_type": "code",
   "execution_count": 24,
   "id": "1d904fac",
   "metadata": {},
   "outputs": [
    {
     "data": {
      "text/plain": [
       "(array([[ -20.        ,   60.        ,  -70.71067812],\n",
       "        [ -22.        , -103.92304845,  -70.71067812]]),\n",
       " array([ -30.71067812, -196.63372657]))"
      ]
     },
     "execution_count": 24,
     "metadata": {},
     "output_type": "execute_result"
    }
   ],
   "source": [
    "a, b = np.pi/3, 0\n",
    "\n",
    "fk_ = np.array([\n",
    "    [L[0], lc*np.cos(a), lb*np.cos(5*np.pi/4 + b)], \n",
    "    [L[1], -lc*np.sin(a), lb*np.sin(5*np.pi/4 + b)]\n",
    "])\n",
    "\n",
    "fk_, FK(a, b)"
   ]
  },
  {
   "cell_type": "code",
   "execution_count": 91,
   "id": "af2bf127",
   "metadata": {},
   "outputs": [
    {
     "data": {
      "text/plain": [
       "(0.8786796564403572, -3.1213203435596424)"
      ]
     },
     "execution_count": 91,
     "metadata": {},
     "output_type": "execute_result"
    }
   ],
   "source": [
    "x, y = Lo\n",
    "x, y"
   ]
  },
  {
   "cell_type": "code",
   "execution_count": 33,
   "id": "40735bb2",
   "metadata": {},
   "outputs": [
    {
     "name": "stdout",
     "output_type": "stream",
     "text": [
      "[  2.9595426  -10.60324496]\n"
     ]
    },
    {
     "data": {
      "image/png": "[encoded data removed]",
      "text/plain": [
       "<Figure size 432x432 with 1 Axes>"
      ]
     },
     "metadata": {
      "needs_background": "light"
     },
     "output_type": "display_data"
    }
   ],
   "source": [
    "solution(np.radians(11), np.radians(2), la, lb, lc)"
   ]
  },
  {
   "cell_type": "code",
   "execution_count": 34,
   "id": "ab77cc22",
   "metadata": {},
   "outputs": [],
   "source": [
    "k = 1\n",
    "la =  24/k # 1 link\n",
    "lb =  100/k # 2 link\n",
    "lc =  120/k # 3 link\n",
    "L = np.array([-20, -22])/k # distance between servo\n",
    "x, y = 0, -150"
   ]
  },
  {
   "cell_type": "code",
   "execution_count": 35,
   "id": "bc01ea8a",
   "metadata": {},
   "outputs": [],
   "source": [
    "delta = ((x - L[0])**2 + (y - L[1])**2)**0.5\n",
    "gama = np.math.acos((x - L[0]) / delta) # np.abs(np.math.atan((y - L[1]) / (x - L[0])))\n",
    "teta = np.math.acos( (lb**2 - lc**2 + delta**2) / (2*lb*delta) )\n",
    "ksi = np.math.acos( (lb**2 + lc**2 - delta**2) / (2*lb*lc) )\n",
    "beta = 3*np.pi/4 - teta - gama\n",
    "alpha = ksi + teta + gama - np.pi"
   ]
  },
  {
   "cell_type": "code",
   "execution_count": 36,
   "id": "7a00e3fe",
   "metadata": {
    "scrolled": true
   },
   "outputs": [
    {
     "data": {
      "text/plain": [
       "(34.065955999973546, -7.567688610207652)"
      ]
     },
     "execution_count": 36,
     "metadata": {},
     "output_type": "execute_result"
    }
   ],
   "source": [
    "np.rad2deg(alpha), np.rad2deg(beta)"
   ]
  },
  {
   "cell_type": "code",
   "execution_count": 37,
   "id": "3006863f",
   "metadata": {},
   "outputs": [
    {
     "name": "stdout",
     "output_type": "stream",
     "text": [
      "[-1.  -7.4]\n"
     ]
    },
    {
     "data": {
      "image/png": "[encoded data removed]",
      "text/plain": [
       "<Figure size 432x432 with 1 Axes>"
      ]
     },
     "metadata": {
      "needs_background": "light"
     },
     "output_type": "display_data"
    }
   ],
   "source": [
    "solution(alpha, beta, la/20, lb/20, lc/20)"
   ]
  },
  {
   "cell_type": "markdown",
   "id": "29243da9",
   "metadata": {},
   "source": [
    "# IK"
   ]
  },
  {
   "cell_type": "code",
   "execution_count": 34,
   "id": "8370d817",
   "metadata": {},
   "outputs": [],
   "source": [
    "x, y = H123[:2, 2]"
   ]
  },
  {
   "cell_type": "code",
   "execution_count": 35,
   "id": "66c81bf0",
   "metadata": {},
   "outputs": [],
   "source": [
    "delta = (x - L[0])**2 + (y - L[1])**2\n",
    "gama = np.math.atan2((y - L[1]), (x - L[0]))\n",
    "\n",
    "phi = np.math.acos((lc**2 - lb**2 - delta) / (2*lb*(delta**0.5)))\n",
    "\n",
    "phi11 = gama + phi\n",
    "phi12 = gama - phi\n",
    "\n",
    "phi21 = np.math.atan2((y - L[1] - lb*np.math.sin(phi11)), (x - L[0] - lb*np.math.cos(phi11))) - phi11\n",
    "phi22 = np.math.atan2((y - L[1] - lb*np.math.sin(phi12)), (x - L[0] - lb*np.math.cos(phi12))) - phi12"
   ]
  },
  {
   "cell_type": "code",
   "execution_count": 36,
   "id": "3fe7a4e3",
   "metadata": {},
   "outputs": [],
   "source": [
    "b1 = phi11 - 5*np.pi/4\n",
    "b2 = phi12 - 5*np.pi/4\n",
    "\n",
    "a1 = 2*np.pi - phi21 - phi11\n",
    "a2 = 2*np.pi - phi22 - phi12"
   ]
  },
  {
   "cell_type": "markdown",
   "id": "f02fecef",
   "metadata": {},
   "source": [
    "# Error "
   ]
  },
  {
   "cell_type": "code",
   "execution_count": 37,
   "id": "c3a791a2",
   "metadata": {},
   "outputs": [
    {
     "data": {
      "text/plain": [
       "(7.677331047051564, 6.159177673558279, 3.141592653589793, 5.982527086635361)"
      ]
     },
     "execution_count": 37,
     "metadata": {},
     "output_type": "execute_result"
    }
   ],
   "source": [
    "np.abs(a1 - a), np.abs(a2 - a), np.abs(b1 - b), np.abs(b2 - b)"
   ]
  },
  {
   "cell_type": "code",
   "execution_count": null,
   "id": "38bb6859",
   "metadata": {},
   "outputs": [],
   "source": [
    "phi11 - a, phi21 - b"
   ]
  }
 ],
 "metadata": {
  "kernelspec": {
   "display_name": "Python 3 (ipykernel)",
   "language": "python",
   "name": "python3"
  },
  "language_info": {
   "codemirror_mode": {
    "name": "ipython",
    "version": 3
   },
   "file_extension": ".py",
   "mimetype": "text/x-python",
   "name": "python",
   "nbconvert_exporter": "python",
   "pygments_lexer": "ipython3",
   "version": "3.9.7"
  }
 },
 "nbformat": 4,
 "nbformat_minor": 5
}
