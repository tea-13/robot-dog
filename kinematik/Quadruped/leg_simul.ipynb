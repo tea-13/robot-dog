{
 "cells": [
  {
   "cell_type": "code",
   "execution_count": 1,
   "id": "9a9efe66",
   "metadata": {},
   "outputs": [],
   "source": [
    "import numpy as np\n",
    "from matplotlib import pyplot as plt"
   ]
  },
  {
   "cell_type": "code",
   "execution_count": 2,
   "id": "9f4d9afc",
   "metadata": {},
   "outputs": [],
   "source": [
    "def H(ang: float, dx: int, dy: int) -> np.array:\n",
    "    return np.array([\n",
    "        [np.cos(ang), -np.sin(ang), dx],\n",
    "        [np.sin(ang), np.cos(ang), dy],\n",
    "        [0, 0, 1],\n",
    "    ])"
   ]
  },
  {
   "cell_type": "markdown",
   "id": "013bc793",
   "metadata": {},
   "source": [
    "<h2>\n",
    "    <p style=\"color:black;text-align:center;\"> \n",
    "        Forward kinematic <br>\n",
    "        Initial conditions\n",
    "    </p> \n",
    "</h2>"
   ]
  },
  {
   "cell_type": "code",
   "execution_count": 3,
   "id": "a9179d20",
   "metadata": {},
   "outputs": [],
   "source": [
    "a = 0 # servo one rotation\n",
    "b = 0 # servo two rotation\n",
    "L = np.array([-2, -1]) # distance between servo\n",
    "la =  2 # 1 link\n",
    "lb =  3 # 2 link\n",
    "lc =  5 # 3 link\n",
    "O = np.array([0, 0]) # start point"
   ]
  },
  {
   "cell_type": "code",
   "execution_count": 4,
   "id": "59c67575",
   "metadata": {},
   "outputs": [],
   "source": [
    "H1 = H(5*np.pi/4 + b, *L)\n",
    "H2 = H(3*np.pi/4 - a - b, lb, 0)\n",
    "H3 = H(0, lc, 0)\n",
    "\n",
    "H12 = np.matmul(H1, H2)\n",
    "H123 = np.matmul(H12, H3)"
   ]
  },
  {
   "cell_type": "markdown",
   "id": "c52f29cc",
   "metadata": {},
   "source": [
    "<h2>\n",
    "    <p style=\"color:black;margin:0;padding:0;\"> \n",
    "        Draw Solution\n",
    "    </p> \n",
    "</h2>"
   ]
  },
  {
   "cell_type": "code",
   "execution_count": 5,
   "id": "7d8731d7",
   "metadata": {},
   "outputs": [
    {
     "data": {
      "image/png": "[encoded data removed]",
      "text/plain": [
       "<Figure size 432x432 with 1 Axes>"
      ]
     },
     "metadata": {
      "needs_background": "light"
     },
     "output_type": "display_data"
    }
   ],
   "source": [
    "plt.figure(figsize=(6, 6))\n",
    "\n",
    "plt.quiver(*O, *H123[:2, 2], color='c', scale_units='xy', angles='xy', scale=1) # FK solution\n",
    "\n",
    "# Creating plot\n",
    "plt.quiver(*O, *L, color='y', hatch='|', scale_units='xy', angles='xy', scale=1) # servo vector\n",
    "\n",
    "\n",
    "plt.quiver(*O, *(-la * H12[:2,0]), color='y', hatch='*', scale_units='xy', angles='xy', scale=1) # 1 link\n",
    "plt.quiver(*H12[:2, 2], *(-la * H12[:2,0]), color='y', hatch='*', scale_units='xy', angles='xy', scale=1) # 1' link\n",
    "plt.quiver(*(-la * H12[:2,0]), *H12[:2, 2], color='m', hatch='*', scale_units='xy', angles='xy', scale=1) # link between 1 and 1'\n",
    "plt.quiver(*L, *(lb * H1[:2,0]), color='r', scale_units='xy', angles='xy', scale=1) # 2 link\n",
    "plt.quiver(*H12[:2, 2], *(lc * H12[:2,0]), color='g', scale_units='xy', angles='xy', scale=1) # 3 link\n",
    "\n",
    "\n",
    "plt.quiver(*np.array([L, L]).T, *H1[:2, :2], color='k', scale_units='xy', angles='xy', scale=1) # base frame\n",
    "plt.quiver(*np.array([H12[:2, 2], H12[:2, 2]]).T, *H12[:2, :2], color='k', scale_units='xy', angles='xy', scale=1) # second frame\n",
    "plt.quiver(*np.array([H123[:2, 2], H123[:2, 2]]).T, *H123[:2, :2], color='k', scale_units='xy', scale=1) # third frame\n",
    "\n",
    "plt.scatter(*np.array([O, L, H12[:2, 2], H123[:2, 2]]).T, c=['y', 'r', 'g', 'b'])\n",
    "\n",
    "# x-lim and y-lim\n",
    "lim = [-7, 7]\n",
    "plt.xlim(*lim) \n",
    "plt.ylim(*lim)\n",
    "plt.grid() # grid on the plot"
   ]
  },
  {
   "cell_type": "markdown",
   "id": "a0dfe24f",
   "metadata": {},
   "source": [
    "<h2>\n",
    "    <p style=\"color:black;margin:0;padding:0;\"> \n",
    "        Solution with variable initial conditions\n",
    "    </p> \n",
    "</h2>"
   ]
  },
  {
   "cell_type": "code",
   "execution_count": 6,
   "id": "70b92d64",
   "metadata": {},
   "outputs": [],
   "source": [
    "from ipywidgets import FloatSlider, interact"
   ]
  },
  {
   "cell_type": "code",
   "execution_count": 7,
   "id": "5d35e47c",
   "metadata": {},
   "outputs": [],
   "source": [
    "def solution(a, b, la, lb, lc):\n",
    "    plt.figure(figsize=(6, 6))\n",
    "\n",
    "    # x-lim and y-lim\n",
    "    lim = [-2, 2]\n",
    "    plt.xlim(*lim) \n",
    "    plt.ylim(*lim)\n",
    "    plt.grid() # grid on the plot\n",
    "\n",
    "    L = np.array([-.2, -.22]) # distance between servo\n",
    "    O = np.array([0, 0]) # start point\n",
    "\n",
    "    H1 = H(5*np.pi/4 + b, *L)\n",
    "    H2 = H(3*np.pi/4 - a - b, lb, 0)\n",
    "    H3 = H(0, lc, 0)\n",
    "\n",
    "    H12 = np.matmul(H1, H2)\n",
    "    H123 = np.matmul(H12, H3)\n",
    "\n",
    "\n",
    "    # Draw solution\n",
    "    plt.quiver(*O, *H123[:2, 2], color='c', scale_units='xy', angles='xy', scale=1) # FK solution\n",
    "    \n",
    "    \n",
    "    plt.quiver(*O, *L, color='y', hatch='|', scale_units='xy', angles='xy', scale=1) # servo vector\n",
    "\n",
    "\n",
    "    plt.quiver(*O, *(-la * H12[:2,0]), color='y', hatch='*', scale_units='xy', angles='xy', scale=1) # 1 link\n",
    "    plt.quiver(*H12[:2, 2], *(-la * H12[:2,0]), color='y', hatch='*', scale_units='xy', angles='xy', scale=1) # 1' link\n",
    "    plt.quiver(*(-la * H12[:2,0]), *H12[:2, 2], color='m', hatch='*', scale_units='xy', angles='xy', scale=1) # link between 1 and 1'\n",
    "    plt.quiver(*L, *(lb * H1[:2,0]), color='r', scale_units='xy', angles='xy', scale=1) # 2 link\n",
    "    plt.quiver(*H12[:2, 2], *(lc * H12[:2,0]), color='g', scale_units='xy', angles='xy', scale=1) # 3 link\n",
    "\n",
    "    scale_frame = 2\n",
    "    plt.quiver(*np.array([L, L]).T, *H1[:2, :2], color='k', scale_units='xy', angles='xy', scale=scale_frame) # base frame\n",
    "    plt.quiver(*np.array([H12[:2, 2], H12[:2, 2]]).T, *H12[:2, :2], color='k', scale_units='xy', angles='xy', scale=scale_frame) # second frame\n",
    "    plt.quiver(*np.array([H123[:2, 2], H123[:2, 2]]).T, *H123[:2, :2], color='k', scale_units='xy', scale=scale_frame) # third frame\n",
    "\n",
    "    plt.scatter(*np.array([O, L, H12[:2, 2], H123[:2, 2]]).T, c=['y', 'r', 'g', 'b'])\n",
    "    \n",
    "    print(H123[:2, 2])\n",
    "\n"
   ]
  },
  {
   "cell_type": "code",
   "execution_count": 8,
   "id": "d06bc133",
   "metadata": {},
   "outputs": [
    {
     "data": {
      "application/vnd.jupyter.widget-view+json": {
       "model_id": "9d33a60a4b554cb7b8a853d4fc8f813a",
       "version_major": 2,
       "version_minor": 0
      },
      "text/plain": [
       "interactive(children=(FloatSlider(value=0.0, description='a', max=3.141592653589793, min=-3.141592653589793, s…"
      ]
     },
     "metadata": {},
     "output_type": "display_data"
    },
    {
     "data": {
      "text/plain": [
       "<function __main__.solution(a, b, la, lb, lc)>"
      ]
     },
     "execution_count": 8,
     "metadata": {},
     "output_type": "execute_result"
    }
   ],
   "source": [
    "interact(\n",
    "    solution, \n",
    "    a=FloatSlider(min=-np.pi, max=np.pi, step=.2, value=0),\n",
    "    b=FloatSlider(min=-np.pi, max=np.pi, step=.2, value=0),\n",
    "    la=FloatSlider(min=0, max=.05, step=.01, value=.024),\n",
    "    lb=FloatSlider(min=.1, max=2, step=.1, value=1),\n",
    "    lc=FloatSlider(min=.1, max=2, step=.1, value=1.2)\n",
    ")"
   ]
  },
  {
   "cell_type": "markdown",
   "id": "a088f6dc",
   "metadata": {},
   "source": [
    "<h2>\n",
    "    <p style=\"color:black;text-align:center;\"> \n",
    "        Inverse kinematic <br>\n",
    "        Initial conditions\n",
    "    </p> \n",
    "</h2>"
   ]
  },
  {
   "cell_type": "code",
   "execution_count": 9,
   "id": "4f8dd2e3",
   "metadata": {},
   "outputs": [],
   "source": [
    "L = np.array([-2, -1]) # distance between servo\n",
    "la = 2 # 1 link\n",
    "lb = 3 # 2 link\n",
    "lc = 5 # 3 link\n",
    "\n",
    "x =  0.71074443 \n",
    "y = -4.54912583"
   ]
  },
  {
   "cell_type": "code",
   "execution_count": 10,
   "id": "15e8b117",
   "metadata": {},
   "outputs": [
    {
     "name": "stderr",
     "output_type": "stream",
     "text": [
      "C:\\Users\\maste\\AppData\\Local\\Temp/ipykernel_19472/4051166394.py:2: DeprecationWarning: `np.math` is a deprecated alias for the standard library `math` module (Deprecated Numpy 1.25). Replace usages of `np.math` with `math`\n",
      "  gama = np.math.acos((x - L[0]) / delta) # np.abs(np.math.atan((y - L[1]) / (x - L[0])))\n",
      "C:\\Users\\maste\\AppData\\Local\\Temp/ipykernel_19472/4051166394.py:3: DeprecationWarning: `np.math` is a deprecated alias for the standard library `math` module (Deprecated Numpy 1.25). Replace usages of `np.math` with `math`\n",
      "  teta = np.math.acos( (lb**2 - lc**2 + delta**2) / (2*lb*delta) )\n",
      "C:\\Users\\maste\\AppData\\Local\\Temp/ipykernel_19472/4051166394.py:4: DeprecationWarning: `np.math` is a deprecated alias for the standard library `math` module (Deprecated Numpy 1.25). Replace usages of `np.math` with `math`\n",
      "  ksi = np.math.acos( (lb**2 + lc**2 - delta**2) / (2*lb*lc) )\n"
     ]
    }
   ],
   "source": [
    "delta = ((x - L[0])**2 + (y - L[1])**2)**0.5\n",
    "gama = np.math.acos((x - L[0]) / delta) # np.abs(np.math.atan((y - L[1]) / (x - L[0])))\n",
    "teta = np.math.acos( (lb**2 - lc**2 + delta**2) / (2*lb*delta) )\n",
    "ksi = np.math.acos( (lb**2 + lc**2 - delta**2) / (2*lb*lc) )\n",
    "beta = 3*np.pi/4 - teta - gama\n",
    "alpha = ksi + teta + gama - np.pi"
   ]
  },
  {
   "cell_type": "code",
   "execution_count": 11,
   "id": "539339fb",
   "metadata": {
    "scrolled": true
   },
   "outputs": [
    {
     "name": "stdout",
     "output_type": "stream",
     "text": [
      "[ 0.71074443 -4.54912583]\n"
     ]
    },
    {
     "data": {
      "image/png": "[encoded data removed]",
      "text/plain": [
       "<Figure size 432x432 with 1 Axes>"
      ]
     },
     "metadata": {
      "needs_background": "light"
     },
     "output_type": "display_data"
    }
   ],
   "source": [
    "solution(alpha, beta, la, lb, lc)"
   ]
  },
  {
   "cell_type": "code",
   "execution_count": null,
   "id": "14133ed0",
   "metadata": {},
   "outputs": [],
   "source": []
  }
 ],
 "metadata": {
  "kernelspec": {
   "display_name": "Python 3 (ipykernel)",
   "language": "python",
   "name": "python3"
  },
  "language_info": {
   "codemirror_mode": {
    "name": "ipython",
    "version": 3
   },
   "file_extension": ".py",
   "mimetype": "text/x-python",
   "name": "python",
   "nbconvert_exporter": "python",
   "pygments_lexer": "ipython3",
   "version": "3.9.7"
  }
 },
 "nbformat": 4,
 "nbformat_minor": 5
}
