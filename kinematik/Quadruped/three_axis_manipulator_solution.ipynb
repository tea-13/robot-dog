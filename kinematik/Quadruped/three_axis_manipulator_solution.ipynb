{
 "cells": [
  {
   "cell_type": "markdown",
   "id": "0f4efe56",
   "metadata": {},
   "source": [
    "<h1>\n",
    "<p style=\"color:black;text-align:center;\"> \n",
    "    Forward kinematic <br>\n",
    "    For three-axis manipulator\n",
    "</p>\n",
    "</h1>\n"
   ]
  },
  {
   "cell_type": "code",
   "execution_count": 1,
   "id": "072a84f0",
   "metadata": {},
   "outputs": [],
   "source": [
    "import numpy as np\n",
    "from matplotlib import pyplot as plt"
   ]
  },
  {
   "cell_type": "markdown",
   "id": "e7d1419e",
   "metadata": {},
   "source": [
    "<h2>\n",
    "    <p style=\"color:black;\"> \n",
    "        Point\n",
    "    </p> \n",
    "</h2>\n",
    "\n",
    "$\n",
    "p = \n",
    "    \\begin{pmatrix}\n",
    "        x \\\\\n",
    "        y\n",
    "    \\end{pmatrix}\n",
    "$\n",
    "\n",
    "<br>\n",
    "<h2>\n",
    "    <p style=\"color:black;\"> \n",
    "        Rotation Matrix:\n",
    "    </p> \n",
    "</h2>\n",
    "\n",
    "$\n",
    "R(\\theta) = \n",
    "    \\begin{pmatrix}\n",
    "        cos(\\theta) & -sin(\\theta) \\\\\n",
    "        sin(\\theta) & cos(\\theta)\n",
    "    \\end{pmatrix}\n",
    "$\n",
    "\n",
    "<br>\n",
    "<h2>\n",
    "    <p style=\"color:black;\"> \n",
    "        Rotation Point:\n",
    "    </p> \n",
    "</h2>\n",
    "    \n",
    "$\n",
    "p' = \n",
    "R(\\theta) \\cdot p = \n",
    "    \\begin{pmatrix}\n",
    "        cos(\\theta) & -sin(\\theta) \\\\\n",
    "        sin(\\theta) & cos(\\theta)\n",
    "    \\end{pmatrix}\n",
    "\\cdot\n",
    "    \\begin{pmatrix}\n",
    "        x \\\\\n",
    "        y\n",
    "    \\end{pmatrix}\n",
    "=\n",
    "    \\begin{pmatrix}\n",
    "        x \\cdot cos(\\theta) - y \\cdot sin(\\theta) \\\\\n",
    "        x \\cdot sin(\\theta) + y \\cdot cos(\\theta)\n",
    "    \\end{pmatrix}\n",
    "=\n",
    "    \\begin{pmatrix}\n",
    "        x' \\\\\n",
    "        y'\n",
    "    \\end{pmatrix}\n",
    "$\n",
    "\n"
   ]
  },
  {
   "cell_type": "code",
   "execution_count": 2,
   "id": "76ac89a6",
   "metadata": {},
   "outputs": [],
   "source": [
    "def R(ang: float) -> np.array:\n",
    "    return np.array([\n",
    "        [np.cos(ang), -np.sin(ang)],\n",
    "        [np.sin(ang), np.cos(ang)]\n",
    "    ])"
   ]
  },
  {
   "cell_type": "code",
   "execution_count": 3,
   "id": "052c86b4",
   "metadata": {},
   "outputs": [],
   "source": [
    "def H(ang: float, dx: int, dy: int) -> np.array:\n",
    "    return np.array([\n",
    "        [np.cos(ang), -np.sin(ang), dx],\n",
    "        [np.sin(ang), np.cos(ang), dy],\n",
    "        [0, 0, 1],\n",
    "    ])"
   ]
  },
  {
   "cell_type": "markdown",
   "id": "8fb8e7bb",
   "metadata": {},
   "source": [
    "<h2>\n",
    "    <p style=\"color:black;margin:0;padding:0;\"> \n",
    "        Initial conditions\n",
    "    </p> \n",
    "</h2>"
   ]
  },
  {
   "cell_type": "code",
   "execution_count": 4,
   "id": "b54987e3",
   "metadata": {},
   "outputs": [],
   "source": [
    "a1 = np.pi / 6 # First angle rotation\n",
    "a2 = -np.pi / 3 # Second angle rotation\n",
    "a3 = -np.pi / 4 # Third angle rotation\n",
    "l1 = 3 # first link length\n",
    "l2 = 2 # second link length\n",
    "O = np.array([0, 0]) # start point"
   ]
  },
  {
   "cell_type": "markdown",
   "id": "aa59dccf",
   "metadata": {},
   "source": [
    "<h2>\n",
    "    <p style=\"color:black;margin:0;padding:0;\"> \n",
    "        Homogeneous Transformation\n",
    "    </p> \n",
    "</h2>"
   ]
  },
  {
   "cell_type": "code",
   "execution_count": 5,
   "id": "650d7920",
   "metadata": {},
   "outputs": [],
   "source": [
    "H1 = H(a1, 0, 0)\n",
    "H2 = H(a2, l1, 0)\n",
    "H3 = H(a3, l2, 0)\n",
    "\n",
    "H12 = np.matmul(H1, H2)\n",
    "H123 = np.matmul(H12, H3)"
   ]
  },
  {
   "cell_type": "markdown",
   "id": "38687bac",
   "metadata": {},
   "source": [
    "<h2>\n",
    "    <p style=\"color:black;margin:0;padding:0;\"> \n",
    "        Draw Solution\n",
    "    </p> \n",
    "</h2>"
   ]
  },
  {
   "cell_type": "code",
   "execution_count": 6,
   "id": "7faf3ce4",
   "metadata": {
    "scrolled": true
   },
   "outputs": [
    {
     "data": {
      "image/png": "[encoded data removed]",
      "text/plain": [
       "<Figure size 432x432 with 1 Axes>"
      ]
     },
     "metadata": {
      "needs_background": "light"
     },
     "output_type": "display_data"
    }
   ],
   "source": [
    "plt.figure(figsize=(6, 6))\n",
    "\n",
    "plt.quiver(*O, *H123[:2, 2], color='c', scale_units='xy', angles='xy', scale=1) # FK solution\n",
    "\n",
    "# Creating plot \n",
    "plt.quiver(*O, *(l1 * H1[:2,0]), color='r', scale_units='xy', angles='xy', scale=1) # first link\n",
    "plt.quiver(*H12[:2, 2], *(l2 * H12[:2,0]), color='g', scale_units='xy', angles='xy', scale=1) # second link\n",
    "\n",
    "\n",
    "plt.quiver(*np.array([O, O]).T, *H1[:2, :2], color='k', scale_units='xy', angles='xy', scale=1) # base frame\n",
    "plt.quiver(*np.array([H12[:2, 2], H12[:2, 2]]).T, *H12[:2, :2], color='k', scale_units='xy', angles='xy', scale=1) # second frame\n",
    "plt.quiver(*np.array([H123[:2, 2], H123[:2, 2]]).T, *H123[:2, :2], color='k', scale_units='xy', scale=1) # third frame\n",
    "\n",
    "plt.scatter(*np.array([O, H12[:2, 2], H123[:2, 2]]).T, c=['r', 'g', 'b'])\n",
    "\n",
    "# x-lim and y-lim\n",
    "lim = [-1, 7]\n",
    "plt.xlim(*lim) \n",
    "plt.ylim(*lim)\n",
    "plt.grid() # grid on the plot"
   ]
  },
  {
   "cell_type": "markdown",
   "id": "6e6d6afa",
   "metadata": {},
   "source": [
    "<h2>\n",
    "    <p style=\"color:black;margin:0;padding:0;\"> \n",
    "        Solution with variable initial conditions\n",
    "    </p> \n",
    "</h2>"
   ]
  },
  {
   "cell_type": "code",
   "execution_count": 7,
   "id": "b259299a",
   "metadata": {},
   "outputs": [],
   "source": [
    "from ipywidgets import FloatSlider, interact"
   ]
  },
  {
   "cell_type": "code",
   "execution_count": 8,
   "id": "23824685",
   "metadata": {},
   "outputs": [],
   "source": [
    "def solution(a1, a2, a3, l1, l2):\n",
    "    plt.figure(figsize=(6, 6))\n",
    "\n",
    "    # x-lim and y-lim\n",
    "    lim = [-2, 6]\n",
    "    plt.xlim(*lim) \n",
    "    plt.ylim(*lim)\n",
    "    plt.grid() # grid on the plot\n",
    "\n",
    "    \n",
    "    O = np.array([0, 0]) # start point\n",
    "\n",
    "    H1 = H(a1, 0, 0)\n",
    "    H2 = H(a2, l1, 0)\n",
    "    H3 = H(a3, l2, 0)\n",
    "\n",
    "    H12 = np.matmul(H1, H2)\n",
    "    H123 = np.matmul(H12, H3)\n",
    "\n",
    "\n",
    "    # Draw solution\n",
    "    plt.quiver(*O, *H123[:2, 2], color='c', scale_units='xy', angles='xy', scale=1) # FK solution\n",
    "\n",
    "    # Creating plot \n",
    "    plt.quiver(*O, *(l1 * H1[:2,0]), color='r', scale_units='xy', angles='xy', scale=1) # first link\n",
    "    plt.quiver(*H12[:2, 2], *(l2 * H12[:2,0]), color='g', scale_units='xy', angles='xy', scale=1) # second link\n",
    "\n",
    "\n",
    "    plt.quiver(*np.array([O, O]).T, *H1[:2, :2], color='k', scale_units='xy', angles='xy', scale=1) # base frame\n",
    "    plt.quiver(*np.array([H12[:2, 2], H12[:2, 2]]).T, *H12[:2, :2], color='k', scale_units='xy', angles='xy', scale=1) # second frame\n",
    "    plt.quiver(*np.array([H123[:2, 2], H123[:2, 2]]).T, *H123[:2, :2], color='k', scale_units='xy', scale=1) # third frame\n",
    "\n",
    "    plt.scatter(*np.array([O, H12[:2, 2], H123[:2, 2]]).T, c=['r', 'g', 'b'])\n",
    "\n"
   ]
  },
  {
   "cell_type": "code",
   "execution_count": 9,
   "id": "4cf8b2a8",
   "metadata": {},
   "outputs": [
    {
     "data": {
      "application/vnd.jupyter.widget-view+json": {
       "model_id": "254e7fe74d834d87a75956643b272bd9",
       "version_major": 2,
       "version_minor": 0
      },
      "text/plain": [
       "interactive(children=(FloatSlider(value=0.0, description='a1', max=3.141592653589793, min=-3.141592653589793),…"
      ]
     },
     "metadata": {},
     "output_type": "display_data"
    },
    {
     "data": {
      "text/plain": [
       "<function __main__.solution(a1, a2, a3, l1, l2)>"
      ]
     },
     "execution_count": 9,
     "metadata": {},
     "output_type": "execute_result"
    }
   ],
   "source": [
    "interact(\n",
    "    solution, \n",
    "    a1=FloatSlider(min=-np.pi, max=np.pi, step=.1, value=0),\n",
    "    a2=FloatSlider(min=-np.pi, max=np.pi, step=.1, value=0),\n",
    "    a3=FloatSlider(min=-np.pi, max=np.pi, step=.1, value=0),\n",
    "    l1=FloatSlider(min=1, max=5, step=.1, value=3),\n",
    "    l2=FloatSlider(min=1, max=5, step=.1, value=2)\n",
    ")"
   ]
  },
  {
   "cell_type": "code",
   "execution_count": null,
   "id": "0d3769be",
   "metadata": {},
   "outputs": [],
   "source": []
  }
 ],
 "metadata": {
  "kernelspec": {
   "display_name": "Python 3 (ipykernel)",
   "language": "python",
   "name": "python3"
  },
  "language_info": {
   "codemirror_mode": {
    "name": "ipython",
    "version": 3
   },
   "file_extension": ".py",
   "mimetype": "text/x-python",
   "name": "python",
   "nbconvert_exporter": "python",
   "pygments_lexer": "ipython3",
   "version": "3.9.7"
  },
  "toc-showmarkdowntxt": false
 },
 "nbformat": 4,
 "nbformat_minor": 5
}
